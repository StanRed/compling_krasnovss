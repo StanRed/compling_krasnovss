{
 "cells": [
  {
   "cell_type": "markdown",
   "metadata": {},
   "source": [
    "** Компьютерная лингвистика, домашнее задание №1.**  \n",
    "Выполнено Красновым Станиславом и Климовым Александром."
   ]
  },
  {
   "cell_type": "code",
   "execution_count": 1,
   "metadata": {
    "collapsed": true
   },
   "outputs": [],
   "source": [
    "import os\n",
    "import re\n",
    "from collections import Counter\n",
    "import numpy as np\n",
    "%matplotlib inline\n",
    "import seaborn as sns\n",
    "import matplotlib.pyplot as plt\n",
    "from pandas import DataFrame"
   ]
  },
  {
   "cell_type": "markdown",
   "metadata": {},
   "source": [
    "Делаем наивную нормализацию из нашего семинара и удаляем первую строку на английском языке (кроме того, мы подготовили строку, которая удаляет == text == из выкачанных с Википедии статей (где содержатся названия разделов статей на Википедии, которые могли бы испортить нам биграммы и триграммы):"
   ]
  },
  {
   "cell_type": "code",
   "execution_count": 14,
   "metadata": {},
   "outputs": [
    {
     "name": "stdout",
     "output_type": "stream",
     "text": [
      "452 files\n"
     ]
    }
   ],
   "source": [
    "texts = []\n",
    "start_path = 'udhr_txt'\n",
    "for path, dirs, files in os.walk(start_path):\n",
    "    for fname in files:\n",
    "        with open(os.path.join(path, fname), encoding='utf-8') as f:\n",
    "            raw_text = f.read()\n",
    "            text = '\\n'.join([line for line in raw_text.split('\\n') if ':' not in line and line.strip()])\n",
    "            text = re.sub('==.[\\w\\s]+.==', '', text)\n",
    "            texts.append(re.sub('[\\W\\d]+', ' ', text.lower()))\n",
    "                \n",
    "print(len(texts), 'files')"
   ]
  },
  {
   "cell_type": "markdown",
   "metadata": {},
   "source": [
    "Убираем текст в шапке: в каждом из 452 текстов в нашей выборке одинаковая есть одинаковая шапка (с вариациями городов), которую можно удалить таким образом."
   ]
  },
  {
   "cell_type": "code",
   "execution_count": 15,
   "metadata": {},
   "outputs": [
    {
     "name": "stdout",
     "output_type": "stream",
     "text": [
      "452 files\n"
     ]
    }
   ],
   "source": [
    "texts2 = []\n",
    "for i in texts:\n",
    "    x = i.find('unicode') + 8\n",
    "    texts2.append(i[x:-1])\n",
    "\n",
    "print(len(texts2), 'files')"
   ]
  },
  {
   "cell_type": "markdown",
   "metadata": {},
   "source": [
    "Создаём функцию, которая бы считала частоты слов, нграмм и биграмм и сразу же записывала их в отдельный файл."
   ]
  },
  {
   "cell_type": "code",
   "execution_count": 16,
   "metadata": {},
   "outputs": [],
   "source": [
    "def ngrams(txt_list):\n",
    "    n=1\n",
    "    for txt in txt_list:\n",
    "        w = txt.split()\n",
    "        words = Counter(w).most_common(300)\n",
    "        x = 'Самые частотные слова:\\n'\n",
    "        for j in words:\n",
    "            x += str(j)[1:-1] +'\\n'\n",
    "                \n",
    "        bigrams = [tuple(w[i:i+2]) for i in range(len(w))][:-1]\n",
    "        bigramsf = Counter(bigrams).most_common(300)\n",
    "        x1 = '\\nСамые частотные биграммы:\\n'\n",
    "        for j in bigramsf:\n",
    "            x1 += str(j)[1:-1] +'\\n'\n",
    "            \n",
    "        tgrams = [tuple(w[i:i+3]) for i in range(len(w))][:-1]\n",
    "        tgramsf = Counter(tgrams).most_common(300)\n",
    "        x2 = '\\nСамые частотные триграммы:\\n'\n",
    "        for j in tgramsf:\n",
    "            x2 += str(j)[1:-1] +'\\n'\n",
    "        \n",
    "        with open('lang#'+str(n)+'.txt', 'w', encoding='utf-8') as file:\n",
    "            file.write(x+x1+x2)\n",
    "    \n",
    "        n+=1\n",
    "        \n",
    "ngrams(texts2[0:7])"
   ]
  },
  {
   "cell_type": "markdown",
   "metadata": {},
   "source": [
    "Здесь мы создаём матрицу схожести."
   ]
  },
  {
   "cell_type": "code",
   "execution_count": 29,
   "metadata": {},
   "outputs": [
    {
     "data": {
      "image/png": "[encoded data removed]",
      "text/plain": [
       "<matplotlib.figure.Figure at 0x1a2135c0>"
      ]
     },
     "metadata": {},
     "output_type": "display_data"
    },
    {
     "data": {
      "image/png": "[encoded data removed]",
      "text/plain": [
       "<matplotlib.figure.Figure at 0x1a294ef0>"
      ]
     },
     "metadata": {},
     "output_type": "display_data"
    },
    {
     "data": {
      "image/png": "[encoded data removed]",
      "text/plain": [
       "<matplotlib.figure.Figure at 0x19b14898>"
      ]
     },
     "metadata": {},
     "output_type": "display_data"
    },
    {
     "data": {
      "text/plain": [
       "(array([[300,   7,   0,   0,   0,   0,   0],\n",
       "        [  7, 300,   0,   1,   0,   0,   0],\n",
       "        [  0,   0, 300,   0,   0,   0,   1],\n",
       "        [  0,   1,   0, 222,   0,   0,   0],\n",
       "        [  0,   0,   0,   0, 300,   0,   0],\n",
       "        [  0,   0,   0,   0,   0, 300,  30],\n",
       "        [  0,   0,   1,   0,   0,  30, 300]]),\n",
       " array([[300,   4,   0,   0,   1,   0,   0],\n",
       "        [  4, 300,   0,   0,   0,   0,   0],\n",
       "        [  0,   0, 300,   0,   0,   0,   0],\n",
       "        [  0,   0,   0, 300,   0,   0,   0],\n",
       "        [  1,   0,   0,   0, 300,   0,   0],\n",
       "        [  0,   0,   0,   0,   0, 300,   0],\n",
       "        [  0,   0,   0,   0,   0,   0, 300]]),\n",
       " array([[300,   0,   0,   0,   0,   0,   0],\n",
       "        [  0, 300,   0,   0,   0,   0,   0],\n",
       "        [  0,   0, 300,   0,   0,   0,   0],\n",
       "        [  0,   0,   0, 300,   0,   0,   0],\n",
       "        [  0,   0,   0,   0, 300,   0,   0],\n",
       "        [  0,   0,   0,   0,   0, 300,   0],\n",
       "        [  0,   0,   0,   0,   0,   0, 300]]))"
      ]
     },
     "execution_count": 29,
     "metadata": {},
     "output_type": "execute_result"
    }
   ],
   "source": [
    "def match(txt_list):\n",
    "    \n",
    "    #создаём и наполняем списки n-граммов\n",
    "    word_list = []\n",
    "    bigram_list = []\n",
    "    tgram_list = []\n",
    "    for txt in txt_list:\n",
    "        w = txt.split()\n",
    "        words = [i for i in w]\n",
    "        wordsf = Counter(words).most_common(300)\n",
    "        word_list.append(wordsf)\n",
    "        bigrams = [tuple(w[i:i+2]) for i in range(len(w))][:-1]\n",
    "        bigramsf = Counter(bigrams).most_common(300)\n",
    "        bigram_list.append(bigramsf)\n",
    "        tgrams = [tuple(w[i:i+3]) for i in range(len(w))][:-1]\n",
    "        tgramsf = Counter(tgrams).most_common(300)\n",
    "        tgram_list.append(tgramsf)\n",
    "        \n",
    "    #рассчитываем матрицу для каждого списка n-граммов\n",
    "    for n in [word_list, bigram_list, tgram_list]:\n",
    "        match_matrix=np.zeros(pow(len(n),2), dtype=\"int32\")\n",
    "        for i in range(len(n)):\n",
    "            for j in range(len(n)):\n",
    "                if i == j:\n",
    "                    match_matrix[len(n)*i+j]=len(n[i])\n",
    "                else:\n",
    "                    match_matrix[len(n)*i+j]=len(set(n[i]) & set(n[j]))\n",
    "        if n == word_list:\n",
    "            word_matrix=match_matrix.reshape(len(n),len(n))\n",
    "        elif n == bigram_list:\n",
    "            bigram_matrix=match_matrix.reshape(len(n),len(n))\n",
    "        else:\n",
    "            tgram_matrix=match_matrix.reshape(len(n),len(n))\n",
    "    \n",
    "    #творим визуализацию\n",
    "    sns.heatmap(DataFrame(word_matrix))\n",
    "    plt.title(\"Матрица схожести по словам\")\n",
    "    a = plt.show()\n",
    "    sns.heatmap(DataFrame(bigram_matrix))\n",
    "    plt.title(\"Матрица схожести по биграммам\")\n",
    "    b = plt.show()\n",
    "    sns.heatmap(DataFrame(tgram_matrix))\n",
    "    plt.title(\"Матрица схожести по триграммам\")\n",
    "    c = plt.show()\n",
    "    return word_matrix, bigram_matrix, tgram_matrix\n",
    "    \n",
    "match(texts2[0:7])"
   ]
  },
  {
   "cell_type": "markdown",
   "metadata": {},
   "source": [
    "Мы работали с текстами Всеобщей декларации прав человека, и так как всего их было 452 в нашей выборке, мы постарались сделать наш код максимально универсальным, чтобы на вход можно было подавать любые тексты из этой выборки на любом языке, поэтому, собственно, у нас нет предпочтительных языков. <br>\n",
    "Чтобы более подробно рассмотреть работу нашей матрицы, посмотрим на первые 7 языков в нашей выборке: креольский язык форру, креол Гвинеи-Биссау, мбунду, тетум, умбунду, бизиса и миджиса. Как видно, большинство языков неродственные, кроме креольских языков на основе португальского языка."
   ]
  }
 ],
 "metadata": {
  "kernelspec": {
   "display_name": "Python 3",
   "language": "python",
   "name": "python3"
  },
  "language_info": {
   "codemirror_mode": {
    "name": "ipython",
    "version": 3
   },
   "file_extension": ".py",
   "mimetype": "text/x-python",
   "name": "python",
   "nbconvert_exporter": "python",
   "pygments_lexer": "ipython3",
   "version": "3.5.4"
  }
 },
 "nbformat": 4,
 "nbformat_minor": 2
}
